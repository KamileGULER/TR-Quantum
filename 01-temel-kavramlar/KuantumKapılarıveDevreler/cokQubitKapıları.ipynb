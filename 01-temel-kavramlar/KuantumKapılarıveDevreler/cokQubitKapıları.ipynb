{
 "cells": [
  {
   "cell_type": "markdown",
   "id": "49f1b911-107c-4966-a75e-e2e1695ecbca",
   "metadata": {},
   "source": [
    "# Çok Qubit Kapıları\n",
    "\n",
    "İki qubit kapıları (örneğin CNOT, CZ, SWAP) kuantum algoritmalarının temel taşlarıdır.  \n",
    "Ancak bazı durumlarda **iki qubitten daha fazlası** üzerinde işlem yapan kapılara ihtiyaç duyarız.  \n",
    "Bunlara **çok qubit kapıları** denir.  \n",
    "\n",
    "\n",
    "\n",
    "### Neden Çok Qubit Kapıları Gerekli?\n",
    "- **Karmaşık Kontrol Mantıkları:**  \n",
    "  Bazı algoritmalarda birden fazla kontrol qubitine ihtiyaç duyulur.  \n",
    "  Örneğin, “ancak iki farklı koşul aynı anda sağlandığında” gibi durumlar Toffoli kapısıyla ifade edilir.  \n",
    "\n",
    "- **Koşullu Veri Taşıma / Değişim:**  \n",
    "  Fredkin (CSWAP) kapısı gibi bazı kapılar, kontrol qubitine bağlı olarak iki qubitin yer değiştirmesini sağlar.  \n",
    "\n",
    "- **Klasik Mantık İşlemleri ile Benzerlik:**  \n",
    "  Çok qubit kapıları, klasik devrelerdeki AND, OR gibi fonksiyonların kuantum karşılığı olarak düşünülebilir.  \n",
    "  Bu sayede **klasik hesaplama ile kuantum hesaplama arasında köprü** kurulur.  \n",
    "\n",
    "\n",
    "\n",
    "### Genel Özellikler\n",
    "- **Kontrol-Hedef İlişkisi:**  \n",
    "  Çok qubit kapılarında genellikle bir veya birden fazla **kontrol qubit** bulunur.  \n",
    "  Kontrol qubit(ler)inin durumuna göre hedef qubit(ler) üzerinde işlem yapılır.  \n",
    "\n",
    "- **Reversibilite (Geri Döndürülebilirlik):**  \n",
    "  Kuantum kapılarının tamamı gibi çok qubit kapıları da tersinir.  \n",
    "  Yani kapı iki kez uygulanırsa sistem başlangıç durumuna geri döner.  \n",
    "\n",
    "- **Dolanıklık ve Karmaşık Bağıntılar:**  \n",
    "  Çok qubit kapıları yalnızca iki qubit değil, üç veya daha fazla qubit arasında **daha karmaşık dolanıklık ilişkileri** kurabilir.  \n",
    "\n",
    "\n",
    "### Kullanım Alanları\n",
    "- **Kuantum Hata Düzeltme:** Çok qubit kapıları, hata düzeltme kodlarının uygulanmasında kritik rol oynar.  \n",
    "- **Kuantum Mantık Devreleri:** Klasik mantığın kuantuma uyarlanması (AND, NAND, conditional operations).  \n",
    "- **Kuantum Algoritmaları:** Özellikle Grover arama algoritması ve bazı optimizasyon algoritmalarında Toffoli kapısı kullanılır.  \n",
    "- **Veri Yönlendirme:** Fredkin kapısı, koşullu veri taşıma işlemlerinde rol oynar.  \n"
   ]
  },
  {
   "cell_type": "markdown",
   "id": "f5066fbb-d620-4ec6-b0a5-0d8fbec83663",
   "metadata": {},
   "source": [
    "### Önemli Örnekler\n",
    "\n",
    "## 1. Toffoli (CCNOT) Kapısı\n",
    "- **Tanım:**  \n",
    "  İki kontrol qubit ve bir hedef qubitten oluşur.  \n",
    "  Klasik **AND** fonksiyonunun kuantum karşılığıdır.  \n",
    "\n",
    "- **Çalışma Mantığı:**  \n",
    "  - Her iki kontrol qubit de $|1\\rangle$ durumundaysa hedef qubit üzerine X (NOT) kapısı uygulanır.  \n",
    "  - Diğer durumlarda hedef qubit değişmeden kalır.  \n",
    "\n",
    "- **Önemi:**  \n",
    "  - Evrensel klasik mantık devrelerinin kuantum karşılığıdır.  \n",
    "  - Kuantum hata düzeltme ve bazı algoritmalarda kritik rol oynar.\n",
    "\n",
    "### Doğruluk Tablosu\n",
    "\n",
    "| Giriş Durumu | Çıkış Durumu |\n",
    "|--------------|--------------|\n",
    "| $|000\\rangle$ | $|000\\rangle$ |\n",
    "| $|001\\rangle$ | $|001\\rangle$ |\n",
    "| $|010\\rangle$ | $|010\\rangle$ |\n",
    "| $|011\\rangle$ | $|011\\rangle$ |\n",
    "| $|100\\rangle$ | $|100\\rangle$ |\n",
    "| $|101\\rangle$ | $|101\\rangle$ |\n",
    "| $|110\\rangle$ | $|111\\rangle$ |\n",
    "| $|111\\rangle$ | $|110\\rangle$ |\n",
    "\n",
    "### Özet\n",
    "- İki kontrol + bir hedef qubitten oluşur.  \n",
    "- Sadece iki kontrol aynı anda $|1\\rangle$ olduğunda hedef terslenir.  \n",
    "- Klasik hesaplama ve kuantum hesaplama arasında **köprü kuran en önemli çok qubit kapılarından biridir.**"
   ]
  },
  {
   "cell_type": "code",
   "execution_count": 1,
   "id": "73abe6af-67e4-47c1-9ba2-b62615ab80bc",
   "metadata": {},
   "outputs": [
    {
     "data": {
      "image/png": "[encoded data removed]",
      "text/plain": [
       "<Figure size 203.885x284.278 with 1 Axes>"
      ]
     },
     "execution_count": 1,
     "metadata": {},
     "output_type": "execute_result"
    }
   ],
   "source": [
    "from qiskit import QuantumCircuit\n",
    "\n",
    "qc = QuantumCircuit(3)\n",
    "qc.ccx(0, 1, 2)   # Toffoli (CCNOT)\n",
    "qc.draw(output='mpl')"
   ]
  },
  {
   "cell_type": "markdown",
   "id": "d0014845-9b40-40f3-9e28-5b77caf559c7",
   "metadata": {},
   "source": [
    "**Devre Açıklaması — Toffoli (CCNOT) Kapısı**\n",
    "\n",
    "Yukarıdaki devrede Toffoli kapısının şematik gösterimi yer almaktadır:  \n",
    "\n",
    "- **q₀ ve q₁ üzerindeki dolu noktalar (●):** Kontrol qubitlerini temsil eder.  \n",
    "- **q₂ üzerindeki artı işareti (⊕):** Hedef qubit üzerinde uygulanacak X (NOT) kapısını gösterir.  \n",
    "\n",
    "Bu sembol, “yalnızca her iki kontrol qubit de $|1\\rangle$ olduğunda hedef qubitin terslendiğini” görsel olarak ifade eder.  \n"
   ]
  },
  {
   "cell_type": "markdown",
   "id": "1ee1a9c9-6332-4910-8993-8f0a8507b334",
   "metadata": {},
   "source": [
    "---\n",
    "## 2. Fredkin (CSWAP) Kapısı\n",
    "\n",
    "**Tanım:**\n",
    "Bir kontrol qubit ve iki hedef qubitten oluşur.\n",
    "Kontrollü SWAP mantığına sahiptir.\n",
    "\n",
    "**Çalışma Mantığı:**\n",
    "\n",
    " - Kontrol qubit $|1\\rangle$ durumundaysa, iki hedef qubitin durumları yer değiştirir (SWAP uygulanır).\n",
    "\n",
    " - Kontrol qubit $|0\\rangle$ durumundaysa hedef qubitler sabit kalır.\n",
    "\n",
    "**Önemi ve Kullanım Alanları:**\n",
    "\n",
    " - Kuantum devrelerinde koşullu yer değiştirme işlemleri için kullanılır.\n",
    "\n",
    " - Reversibl (geri döndürülebilir) hesaplamalarda rol oynar.\n",
    "\n",
    "### Doğruluk Tablosu\n",
    "\n",
    "| Giriş Durumu | Çıkış Durumu |\n",
    "|--------------|--------------|\n",
    "| $|000\\rangle$ | $|000\\rangle$ |\n",
    "| $|001\\rangle$ | $|001\\rangle$ |\n",
    "| $|010\\rangle$ | $|010\\rangle$ |\n",
    "| $|011\\rangle$ | $|011\\rangle$ |\n",
    "| $|100\\rangle$ | $|100\\rangle$ |\n",
    "| $|101\\rangle$ | $|110\\rangle$ |\n",
    "| $|110\\rangle$ | $|101\\rangle$ |\n",
    "| $|111\\rangle$ | $|111\\rangle$ |\n"
   ]
  },
  {
   "cell_type": "code",
   "execution_count": 2,
   "id": "0a0d08ab-528b-42c3-8637-14b976bf9f49",
   "metadata": {},
   "outputs": [
    {
     "data": {
      "image/png": "[encoded data removed]",
      "text/plain": [
       "<Figure size 203.885x284.278 with 1 Axes>"
      ]
     },
     "execution_count": 2,
     "metadata": {},
     "output_type": "execute_result"
    }
   ],
   "source": [
    "from qiskit import QuantumCircuit\n",
    "qc = QuantumCircuit(3)\n",
    "qc.cswap(0, 1, 2)   # Fredkin (CSWAP)\n",
    "qc.draw(output='mpl')"
   ]
  },
  {
   "cell_type": "markdown",
   "id": "febafb55-648f-4c6c-816f-e4a86284e909",
   "metadata": {},
   "source": [
    "**Devre Açıklaması — Fredkin (CSWAP) Kapısı**\n",
    "\n",
    "Yukarıdaki devrede **Fredkin kapısı (CSWAP)** sembolü yer almaktadır:  \n",
    "\n",
    "- **q₀ üzerindeki dolu nokta (●):** Kontrol qubitini temsil eder.  \n",
    "- **q₁ ve q₂ üzerindeki çarpı işaretleri (×):** Yer değiştirecek hedef qubitleri gösterir.  \n",
    "\n",
    "Bu sembol, “kontrol qubit $|1\\rangle$ olduğunda hedef qubitlerin yer değiştirdiğini” ifade eder.  \n",
    "\n",
    "- Eğer kontrol qubit ($q₀$) **$|0\\rangle$** ise → hedef qubitler ($q₁$, $q₂$) aynı kalır.  \n",
    "- Eğer kontrol qubit ($q₀$) **$|1\\rangle$** ise → hedef qubitler ($q₁$, $q₂$) yer değiştirir.  \n",
    "\n",
    "Bu kapı, koşullu **SWAP** işlemini görsel olarak ifade eder.\n"
   ]
  },
  {
   "cell_type": "markdown",
   "id": "41c5935b-8cb2-42b1-a277-49bb89d1c417",
   "metadata": {},
   "source": [
    "---\n",
    "# Genel Özet: Çok Qubit Kapıları (Toffoli ve Fredkin)\n",
    "\n",
    "İki qubit kapılarının ötesinde, daha fazla qubit üzerinde işlem yapan **çok qubit kapıları** vardır.  \n",
    "Bunlar kuantum algoritmalarında daha karmaşık kontrol ve koşullu işlemleri mümkün kılar.  \n",
    "En önemli örneklerden ikisi **Toffoli (CCNOT)** ve **Fredkin (CSWAP)** kapılarıdır.  \n",
    "\n",
    "\n",
    "## 1. Toffoli (CCNOT) Kapısı\n",
    "- **Yapısı:** 2 kontrol + 1 hedef qubit  \n",
    "- **Mantığı:** Her iki kontrol qubit $|1\\rangle$ durumundaysa hedef qubit terslenir (X kapısı uygulanır).  \n",
    "- **Klasik Benzeri:** AND fonksiyonunun kuantum karşılığıdır.  \n",
    "- **Önemi:**  \n",
    "  - Kuantum hata düzeltme kodlarında kritik rol oynar.  \n",
    "  - Klasik mantık işlemlerini kuantum devrelerine taşır.  \n",
    "  - Evrensel kapı setlerinde önemli bir yere sahiptir.  \n",
    "\n",
    "\n",
    "## 2. Fredkin (CSWAP) Kapısı\n",
    "- **Yapısı:** 1 kontrol + 2 hedef qubit  \n",
    "- **Mantığı:** Kontrol qubit $|1\\rangle$ durumundaysa iki hedef qubitin durumları yer değiştirir (SWAP).  \n",
    "- **Klasik Benzeri:** Koşullu veri taşıma/yer değiştirme işleminin kuantum karşılığıdır.  \n",
    "- **Önemi:**  \n",
    "  - Koşullu yönlendirme işlemleri için kullanılır.  \n",
    "  - Reversibl (geri döndürülebilir) hesaplamalarda temel bileşendir.  \n",
    "\n",
    "\n",
    "\n",
    "## Genel Karşılaştırma\n",
    "\n",
    "$$\n",
    "\\begin{array}{|c|c|c|c|c|}\n",
    "\\hline\n",
    "\\textbf{Kapı} & \\textbf{Kontrol Sayısı} & \\textbf{Hedef Sayısı} & \\textbf{İşlem Mantığı} & \\textbf{Klasik Karşılığı} \\\\\n",
    "\\hline\n",
    "\\text{Toffoli (CCNOT)} & 2 & 1 & \\text{Kontroller } = 1 \\;\\Rightarrow\\; \\text{hedef terslenir (X)} & \\text{AND fonksiyonu} \\\\\n",
    "\\hline\n",
    "\\text{Fredkin (CSWAP)} & 1 & 2 & \\text{Kontrol } = 1 \\;\\Rightarrow\\; \\text{hedefler yer değiştirir (SWAP)} & \\text{Koşullu değişim} \\\\\n",
    "\\hline\n",
    "\\end{array}\n",
    "$$\n",
    "\n",
    "\n",
    "\n",
    "### Özet\n",
    "- **Toffoli**, klasik mantığı kuantuma taşır ve hata düzeltme/algoritmalarda kritik öneme sahiptir.  \n",
    "- **Fredkin**, koşullu veri değişimi sağlar ve geri döndürülebilir hesaplamaların temelini oluşturur.  \n",
    "\n",
    " Her iki kapı da **çok qubitli kontrol mekanizmalarının** nasıl kurulabileceğini gösteren temel örneklerdir.\n"
   ]
  }
 ],
 "metadata": {
  "kernelspec": {
   "display_name": "Python (qiskit_env)",
   "language": "python",
   "name": "qiskit_env"
  },
  "language_info": {
   "codemirror_mode": {
    "name": "ipython",
    "version": 3
   },
   "file_extension": ".py",
   "mimetype": "text/x-python",
   "name": "python",
   "nbconvert_exporter": "python",
   "pygments_lexer": "ipython3",
   "version": "3.13.5"
  }
 },
 "nbformat": 4,
 "nbformat_minor": 5
}
