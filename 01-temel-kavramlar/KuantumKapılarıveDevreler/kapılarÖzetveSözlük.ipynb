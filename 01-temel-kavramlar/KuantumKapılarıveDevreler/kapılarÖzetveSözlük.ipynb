{
 "cells": [
  {
   "cell_type": "markdown",
   "id": "24df1c76-6389-433d-84b9-d5942e66b84f",
   "metadata": {},
   "source": [
    "# Genel Özet\n",
    "\n",
    "Bu çalışmada kuantum bilgisayarların temel yapı taşları olan **kuantum kapıları** sistematik biçimde incelendi.  \n",
    "\n",
    "- **Tek Qubit Kapıları:**  \n",
    "  Pauli-X, Y, Z; Hadamard (H); Faz kapıları (S, T); Rotasyon kapıları (Rx, Ry, Rz).  \n",
    "  Bu kapılar, tek qubit üzerinde süperpozisyon ve faz değişimleri yaratır.  \n",
    "\n",
    "- **İki Qubit Kapıları:**  \n",
    "  Controlled-X (CNOT), Controlled-Z (CZ) ve SWAP.  \n",
    "  Bu kapılar dolanıklık üretir, faz kontrolü sağlar ve qubitlerin yer değiştirmesini mümkün kılar.  \n",
    "\n",
    "- **Çok Qubit Kapıları:**  \n",
    "  Toffoli (CCNOT) ve Fredkin (CSWAP).  \n",
    "  Daha karmaşık koşullu işlemleri gerçekleştirerek klasik mantığın kuantuma uyarlanmasını sağlar.  \n",
    "\n",
    "- **Dolanıklık ve Bell Durumları:**  \n",
    "  İki qubitin birlikte tanımlandığı özel durumlar incelendi.  \n",
    "  Özellikle Bell durumları, kuantum algoritmalarında ve kuantum iletişiminde temel rol oynar.  \n",
    "\n",
    "➡️ Sonuç olarak, bu kapılar yalnızca matematiksel işlemler değil, aynı zamanda **kuantum bilgisayarların hesaplama gücünün temelini** oluşturan araçlardır.  \n",
    "\n",
    "---\n",
    "\n",
    "# Sözlük\n",
    "\n",
    "- **Qubit:** Kuantum bilgisayarın temel bilgi birimi. $|0\\rangle$ ve $|1\\rangle$ durumlarının süperpozisyonunda bulunabilir.  \n",
    "\n",
    "- **Süperpozisyon:** Bir qubitin aynı anda hem $|0\\rangle$ hem $|1\\rangle$ durumlarını belirli olasılıklarla içermesi.  \n",
    "\n",
    "- **Bloch Küresi:** Tek qubit durumlarını geometrik olarak gösteren küresel temsil.  \n",
    "\n",
    "- **Pauli Kapıları (X, Y, Z):** Temel dönüşüm kapıları. X klasik NOT’a karşılık gelir, Y hem bit hem faz çevirir, Z yalnızca fazı değiştirir.  \n",
    "\n",
    "- **Hadamard (H) Kapısı:** $|0\\rangle$’ı $|+\\rangle$, $|1\\rangle$’ı $|-\\rangle$ durumuna dönüştürür; süperpozisyon üretir.  \n",
    "\n",
    "- **Faz Kapıları (S, T):** Qubit’in fazını belirli açılarla kaydırır.  \n",
    "\n",
    "- **Rotasyon Kapıları (Rx, Ry, Rz):** Bloch küresi etrafında belirli eksenlerde dönme işlemi yapar.  \n",
    "\n",
    "- **CNOT (Controlled-X):** Kontrol qubit $|1\\rangle$ iken hedef qubit üzerinde X uygular. Dolanıklık üretmenin en temel yolu.  \n",
    "\n",
    "- **CZ (Controlled-Z):** İki qubit arasında faz ilişkisi kurar. $|11\\rangle$ durumuna $-1$ fazı ekler.  \n",
    "\n",
    "- **SWAP:** İki qubitin durumlarını yer değiştirir. Donanımda genellikle 3 CNOT ile gerçekleştirilir.  \n",
    "\n",
    "- **Toffoli (CCNOT):** İki kontrol, bir hedef qubit içerir. Klasik AND fonksiyonunun kuantum karşılığıdır.  \n",
    "\n",
    "- **Fredkin (CSWAP):** Bir kontrol, iki hedef qubit içerir. Kontrol $|1\\rangle$ olduğunda hedef qubitlerin durumunu değiştirir.  \n",
    "\n",
    "- **Dolanıklık (Entanglement):** İki veya daha fazla qubitin, birbirinden bağımsız tanımlanamayacak şekilde bağlanması.  \n",
    "\n",
    "- **Bell Durumları:** İki qubit arasında maksimum dolanıklık gösteren dört özel durumdan oluşan küme.  \n",
    "\n",
    "- **Üniter Operatör:** Kuantum kapılarının matematiksel karşılığı olan, tersinir ve norm koruyan matrisler.  \n"
   ]
  }
 ],
 "metadata": {
  "kernelspec": {
   "display_name": "Python (qiskit_env)",
   "language": "python",
   "name": "qiskit_env"
  },
  "language_info": {
   "codemirror_mode": {
    "name": "ipython",
    "version": 3
   },
   "file_extension": ".py",
   "mimetype": "text/x-python",
   "name": "python",
   "nbconvert_exporter": "python",
   "pygments_lexer": "ipython3",
   "version": "3.13.5"
  }
 },
 "nbformat": 4,
 "nbformat_minor": 5
}
