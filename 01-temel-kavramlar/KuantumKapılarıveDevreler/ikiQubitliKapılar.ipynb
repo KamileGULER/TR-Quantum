{
 "cells": [
  {
   "cell_type": "markdown",
   "id": "3850c3a7-dbb8-48ed-b009-3d2e5dcea219",
   "metadata": {},
   "source": [
    "# İki Qubit Kapıları\n",
    "\n",
    "İki qubit kapıları, iki farklı qubit arasında **kontrol–hedef ilişkisi** kurar veya qubitlerin durumlarını değiştirir.  \n",
    "Bu kapılar, **dolanıklık (entanglement)** oluşturmak için temel araçlardır.  \n",
    "\n",
    "---\n",
    "\n",
    "## CNOT (Controlled-X) Kapısı\n",
    "\n",
    "$$\n",
    "CNOT=\\begin{bmatrix}\n",
    "1&0&0&0\\\\\n",
    "0&1&0&0\\\\\n",
    "0&0&0&1\\\\\n",
    "0&0&1&0\n",
    "\\end{bmatrix}\n",
    "$$\n",
    "\n",
    "(Bu matris 4x4 boyutludur çünkü iki qubit üzerinde çalışır.  \n",
    "İlk qubit **kontrol qubit**, ikinci qubit ise **hedef qubit**tir.  \n",
    "Kontrol qubit $|1\\rangle$ durumundaysa, hedef qubit üzerinde $X$ (NOT) uygulanır.  \n",
    "Kontrol qubit $|0\\rangle$ durumundaysa hedef değişmez.)  \n",
    "\n",
    "- **Dolanıklık üretimi:**  \n",
    "  $|00\\rangle$ durumuna önce Hadamard, sonra CNOT uygularsak Bell durumu oluşur:  \n",
    "  $$\n",
    "  |00\\rangle \\xrightarrow{H\\otimes I} \\tfrac{1}{\\sqrt{2}}(|00\\rangle+|10\\rangle) \\xrightarrow{CNOT} \\tfrac{1}{\\sqrt{2}}(|00\\rangle+|11\\rangle).\n",
    "  $$\n",
    "\n",
    "(Burada ilk qubit süperpozisyona girer, CNOT kapısı ikinci qubit ile dolanıklık yaratır.)  "
   ]
  },
  {
   "cell_type": "code",
   "execution_count": 1,
   "id": "8400d2f0-746e-4f80-aad5-3489d3b8ecc3",
   "metadata": {},
   "outputs": [],
   "source": [
    "from qiskit import * \n",
    "from qiskit_aer import AerSimulator\n",
    "from qiskit.visualization import plot_histogram\n",
    "from qiskit.visualization import plot_bloch_multivector\n",
    "from qiskit.quantum_info import Statevector, Operator\n",
    "import matplotlib.pyplot as plt\n",
    "import numpy as np\n",
    "import math\n",
    "%matplotlib inline"
   ]
  },
  {
   "cell_type": "code",
   "execution_count": 2,
   "id": "7042f66f-d3f9-46e5-99d9-8e618df6aeed",
   "metadata": {},
   "outputs": [],
   "source": [
    "### Devre Oluşturma\n",
    "qc = QuantumCircuit (2,2)"
   ]
  },
  {
   "cell_type": "code",
   "execution_count": 3,
   "id": "ea97604e-21f8-4ddd-b623-835c9806a547",
   "metadata": {
    "scrolled": true
   },
   "outputs": [
    {
     "data": {
      "image/png": "[encoded data removed]",
      "text/plain": [
       "<Figure size 161.878x284.278 with 1 Axes>"
      ]
     },
     "metadata": {},
     "output_type": "display_data"
    }
   ],
   "source": [
    "_ = qc.draw(output='mpl') "
   ]
  },
  {
   "cell_type": "code",
   "execution_count": 4,
   "id": "fb7af1be-b92e-48d7-ab37-7ea6b2458c97",
   "metadata": {},
   "outputs": [
    {
     "data": {
      "text/plain": [
       "<qiskit.circuit.instructionset.InstructionSet at 0x1f9a2805870>"
      ]
     },
     "execution_count": 4,
     "metadata": {},
     "output_type": "execute_result"
    }
   ],
   "source": [
    "qc.cx(0,1)"
   ]
  },
  {
   "cell_type": "code",
   "execution_count": 5,
   "id": "c8fb9fa9-e0fa-4bb1-aa89-9c942fdef1ee",
   "metadata": {},
   "outputs": [
    {
     "data": {
      "image/png": "[encoded data removed]",
      "text/plain": [
       "<Figure size 203.683x284.278 with 1 Axes>"
      ]
     },
     "metadata": {},
     "output_type": "display_data"
    }
   ],
   "source": [
    "_ = qc.draw(output='mpl') "
   ]
  },
  {
   "cell_type": "markdown",
   "id": "d867ed41-9b0c-4d66-8ff2-dfc57c4b456b",
   "metadata": {},
   "source": [
    "Çizimde:  \n",
    "- \\(q_0\\) üzerinde dolu daire (●) kontrolü,  \n",
    "- \\(q_1\\) üzerinde artı işareti (⊕) hedef NOT işlemini gösterir.  "
   ]
  },
  {
   "cell_type": "markdown",
   "id": "b3d0c9a3-8c93-427a-93a1-1369cbd56116",
   "metadata": {},
   "source": [
    "---\n",
    "# Bell Durumu ve Dolanıklık\n",
    "\n",
    "## Bell Durumu Nedir?\n",
    "\n",
    "Bell durumları, iki qubitin **maksimum dolanık (entangled)** olduğu özel kuantum durumlarıdır.  \n",
    "Bu durumlarda iki qubitin tek başına kesin bir durumu yoktur, ancak birlikte ölçüldüklerinde tamamen **bağımlı** sonuçlar verirler.  \n",
    "\n",
    "En yaygın Bell durumu:  \n",
    "\n",
    "$$\n",
    "|\\Phi^+\\rangle = \\frac{1}{\\sqrt{2}} (|00\\rangle + |11\\rangle)\n",
    "$$\n",
    "(İki qubitin aynı anda hem $|00\\rangle$ hem de $|11\\rangle$ durumunda olma süperpozisyonu; ölçümde ya ikisi de 0 ya da ikisi de 1 çıkar)  \n",
    "\n",
    "Bu durumda:  \n",
    "- Eğer ilk qubit ölçümde $|0\\rangle$ çıkarsa, ikinci qubit de **kesinlikle** $|0\\rangle$ olur.  \n",
    "- Eğer ilk qubit $|1\\rangle$ çıkarsa, ikinci qubit de **kesinlikle** $|1\\rangle$ olur.  \n",
    "\n",
    "Bireysel ölçümlerde sonuçlar rastgele olsa da, iki qubit arasındaki **bağıntı mükemmeldir**. İşte buna **dolanıklık (entanglement)** denir.  \n",
    "\n",
    "---"
   ]
  },
  {
   "cell_type": "markdown",
   "id": "e630a93f-5897-40e3-a69a-68ebd320af1f",
   "metadata": {},
   "source": [
    "## Bell Durumunun Üretimi\n",
    "\n",
    "Başlangıç:  \n",
    "\n",
    "$$\n",
    "|00\\rangle\n",
    "$$\n",
    "\n",
    "1. İlk qubit üzerine **Hadamard kapısı (H)** uygulanır:  \n",
    "\n",
    "$$\n",
    "|0\\rangle \\xrightarrow{H} \\frac{1}{\\sqrt{2}}(|0\\rangle + |1\\rangle)\n",
    "$$"
   ]
  },
  {
   "cell_type": "code",
   "execution_count": 6,
   "id": "75235193-0ab2-47eb-a1e7-af325ba9b121",
   "metadata": {},
   "outputs": [
    {
     "data": {
      "text/plain": [
       "<qiskit.circuit.instructionset.InstructionSet at 0x1f9a283f2b0>"
      ]
     },
     "execution_count": 6,
     "metadata": {},
     "output_type": "execute_result"
    }
   ],
   "source": [
    "qc = QuantumCircuit(2,2)\n",
    "qc.h(0)"
   ]
  },
  {
   "cell_type": "code",
   "execution_count": 7,
   "id": "8790b3c7-d133-416a-93dd-cfbaf34ae31a",
   "metadata": {},
   "outputs": [
    {
     "data": {
      "image/png": "[encoded data removed]",
      "text/plain": [
       "<Figure size 203.683x284.278 with 1 Axes>"
      ]
     },
     "metadata": {},
     "output_type": "display_data"
    }
   ],
   "source": [
    "_ = qc.draw(output='mpl') "
   ]
  },
  {
   "cell_type": "markdown",
   "id": "9913553f-14c6-41b8-9af2-5429c8ec6acc",
   "metadata": {},
   "source": [
    "Sistemin durumu artık:  \n",
    "\n",
    "$$\n",
    "\\frac{1}{\\sqrt{2}} (|00\\rangle + |10\\rangle)\n",
    "$$  "
   ]
  },
  {
   "cell_type": "markdown",
   "id": "e623f141-1fdb-47d4-8e54-00a1553e64bb",
   "metadata": {},
   "source": [
    "2. Ardından **CNOT** uygulanır:  \n",
    "\n",
    "$$\n",
    "CNOT \\Bigg(\\frac{1}{\\sqrt{2}}(|00\\rangle + |10\\rangle)\\Bigg) =\n",
    "\\frac{1}{\\sqrt{2}}(|00\\rangle + |11\\rangle)\n",
    "$$  "
   ]
  },
  {
   "cell_type": "code",
   "execution_count": 8,
   "id": "581e520f-6bfe-49e0-9154-ae43a3c51d23",
   "metadata": {},
   "outputs": [
    {
     "data": {
      "text/plain": [
       "<qiskit.circuit.instructionset.InstructionSet at 0x1f9a2988910>"
      ]
     },
     "execution_count": 8,
     "metadata": {},
     "output_type": "execute_result"
    }
   ],
   "source": [
    "qc.cx(0,1)"
   ]
  },
  {
   "cell_type": "code",
   "execution_count": 9,
   "id": "1c9da2d3-1b58-44a4-9271-e7c4a9a857df",
   "metadata": {},
   "outputs": [
    {
     "data": {
      "image/png": "[encoded data removed]",
      "text/plain": [
       "<Figure size 287.294x284.278 with 1 Axes>"
      ]
     },
     "metadata": {},
     "output_type": "display_data"
    }
   ],
   "source": [
    "_ = qc.draw(output='mpl') "
   ]
  },
  {
   "cell_type": "markdown",
   "id": "e6a69c3e-ade0-48f8-87bd-192be7e54df4",
   "metadata": {},
   "source": [
    "Bu son durum, **Bell durumu** (maksimum dolanık durum) olarak adlandırılır.  \n",
    "Çizimde:  \n",
    "- \\(q_0\\) üzerinde dolu daire (●) kontrolü,  \n",
    "- \\(q_1\\) üzerinde artı işareti (⊕) hedef NOT işlemini gösterir.  \n",
    "\n",
    "---"
   ]
  },
  {
   "cell_type": "markdown",
   "id": "a6214697-974e-475c-8b65-2b4e5146944d",
   "metadata": {},
   "source": [
    "\n",
    "## Controlled-Z (CZ) Kapısı\n",
    "\n",
    "$$\n",
    "CZ=\\begin{bmatrix}\n",
    "1&0&0&0\\\\\n",
    "0&1&0&0\\\\\n",
    "0&0&1&0\\\\\n",
    "0&0&0&-1\n",
    "\\end{bmatrix}\n",
    "$$\n",
    "\n",
    "(Bu kapıda kontrol qubit $|1\\rangle$, hedef qubit de $|1\\rangle$ durumundaysa, sistemin fazı $-1$ ile çarpılır.  \n",
    "Diğer tüm durumlar sabit kalır.  \n",
    "Yani yalnızca $|11\\rangle$ durumunu etkiler. Faz temelli kontrol mekanizmasıdır.)  \n",
    "\n",
    "- **Hadamard ile ilişkisi:**  \n",
    "  CNOT ve CZ kapıları birbirine dönüşebilir:  \n",
    "  $$\n",
    "  (I \\otimes H)\\,CZ\\,(I \\otimes H) = CNOT.\n",
    "  $$  \n",
    "\n",
    "(Bu denklem gösterir ki, kontrol–X ve kontrol–Z kapıları birbirine Hadamard dönüşümü ile çevrilebilir.)  \n"
   ]
  },
  {
   "cell_type": "code",
   "execution_count": 10,
   "id": "055485d8-98c9-410c-a37c-eac892fcb6b4",
   "metadata": {},
   "outputs": [],
   "source": [
    "qc = QuantumCircuit(2,2)"
   ]
  },
  {
   "cell_type": "code",
   "execution_count": 11,
   "id": "dc7d1e54-a995-43b9-b41a-1b7dc2ae9604",
   "metadata": {},
   "outputs": [
    {
     "data": {
      "image/png": "[encoded data removed]",
      "text/plain": [
       "<Figure size 161.878x284.278 with 1 Axes>"
      ]
     },
     "metadata": {},
     "output_type": "display_data"
    }
   ],
   "source": [
    "_ = qc.draw(output='mpl') "
   ]
  },
  {
   "cell_type": "code",
   "execution_count": 12,
   "id": "f5520ac1-03c6-4ef6-93ac-67c67b0462d0",
   "metadata": {},
   "outputs": [
    {
     "data": {
      "text/plain": [
       "<qiskit.circuit.instructionset.InstructionSet at 0x1f9a2a0ee90>"
      ]
     },
     "execution_count": 12,
     "metadata": {},
     "output_type": "execute_result"
    }
   ],
   "source": [
    "qc = QuantumCircuit(2, name=\"CZ\")\n",
    "qc.cz(0,1)"
   ]
  },
  {
   "cell_type": "markdown",
   "id": "e08fc828-fe19-4930-b601-fbb8d61ed6da",
   "metadata": {},
   "source": [
    "\n",
    "### Açıklama: `name=\"CZ\"`\n",
    "\n",
    "```python\n",
    "qc = QuantumCircuit(2, name=\"CZ\")\n",
    "Buradaki name=\"CZ\" ifadesi, oluşturulan 2-qubit devresine bir isim etiketi vermek için kullanılır.\n",
    "\n",
    "Daha sonra cz.to_gate() ile bu devreyi tek bir kapı gibi kullanabiliriz.\n",
    "\n",
    "İsim verilmezse Qiskit otomatik bir ad atar (örneğin circuit-1234).\n",
    "\n",
    "name=\"CZ\" yazıldığında, devre çizimlerinde bu kapı “CZ” etiketi ile gösterilir.\n",
    "\n",
    "Bu özellik sadece görselleştirme ve okunabilirlik içindir; devrenin çalışmasına doğrudan bir etkisi yoktur."
   ]
  },
  {
   "cell_type": "code",
   "execution_count": 13,
   "id": "25a30908-a892-4772-8243-c556fd14ee98",
   "metadata": {},
   "outputs": [
    {
     "data": {
      "image/png": "[encoded data removed]",
      "text/plain": [
       "<Figure size 203.683x200.667 with 1 Axes>"
      ]
     },
     "metadata": {},
     "output_type": "display_data"
    }
   ],
   "source": [
    "_ = qc.draw(output='mpl') "
   ]
  },
  {
   "cell_type": "markdown",
   "id": "193ca91c-a10b-49b1-8fe9-31b289a7cea2",
   "metadata": {},
   "source": [
    "* **İki qubit arasındaki dikey çizgi ve iki uçtaki dolu daire (●–●)** CZ kapısını temsil eder.\n",
    "* Bu kapıda **kontrol–hedef ayrımı yoktur**; iki qubit eşit konumdadır.\n",
    "* Çalışma mantığı: Eğer iki qubit de $|1\\rangle$ durumundaysa, sistemin fazı (-1) ile çarpılır. Diğer tüm durumlarda qubitler olduğu gibi kalır.\n",
    "\n",
    "Yani görseldeki sembol, **“iki qubit arasında faz ilişkisi kuran kapı”** anlamına gelir.\n"
   ]
  },
  {
   "cell_type": "markdown",
   "id": "0437c134-5f9a-4fa9-9972-e38217dd7817",
   "metadata": {},
   "source": [
    "## CNOT–CZ İlişkisi\n",
    "\n",
    "Aşağıdaki kimlik, CNOT ile CZ arasındaki dönüşümü verir (H hedef qubit’e uygulanır):\n",
    "\n",
    "$$\n",
    "\\mathrm{CNOT} = (I \\otimes H)\\;\\mathrm{CZ}\\;(I \\otimes H),\n",
    "\\qquad\n",
    "\\mathrm{CZ} = (I \\otimes H)\\;\\mathrm{CNOT}\\;(I \\otimes H).\n",
    "$$\n",
    "\n",
    "(Bunu hem üniter düzeyde hem de bir kuantum durumunu evrilterek doğrulayacağız.)\n"
   ]
  },
  {
   "cell_type": "code",
   "execution_count": 14,
   "id": "7b5bf855-f481-4e7a-9cc7-48d9853f5175",
   "metadata": {},
   "outputs": [
    {
     "data": {
      "text/plain": [
       "<qiskit.circuit.instructionset.InstructionSet at 0x1f9a5c59540>"
      ]
     },
     "execution_count": 14,
     "metadata": {},
     "output_type": "execute_result"
    }
   ],
   "source": [
    "from qiskit import QuantumCircuit\n",
    "from qiskit.quantum_info import Operator\n",
    "\n",
    "# CZ devresi \n",
    "cz = QuantumCircuit(2, name=\"CZ\")\n",
    "cz.cz(0, 1)\n",
    "\n",
    "# CNOT'u CZ'den kur:\n",
    "cnot_from_cz = QuantumCircuit(2, name=\"CNOT_from_CZ\")\n",
    "cnot_from_cz.h(1)\n",
    "cnot_from_cz.append(cz.to_gate(), [0, 1])\n",
    "cnot_from_cz.h(1)\n",
    "\n",
    "# Doğrudan CNOT\n",
    "cnot = QuantumCircuit(2, name=\"CNOT_native\")\n",
    "cnot.cx(0, 1)"
   ]
  },
  {
   "cell_type": "code",
   "execution_count": 15,
   "id": "60805a1c-3896-451b-a453-4d69897e269f",
   "metadata": {},
   "outputs": [
    {
     "data": {
      "image/png": "[encoded data removed]",
      "text/plain": [
       "<Figure size 203.683x200.667 with 1 Axes>"
      ]
     },
     "metadata": {},
     "output_type": "display_data"
    }
   ],
   "source": [
    "_ = cz.draw(output='mpl')"
   ]
  },
  {
   "cell_type": "markdown",
   "id": "0f574266-a4d8-4645-83ab-a359294478e5",
   "metadata": {},
   "source": [
    "Devrede: q₀ ve q₁ arasında dikey çizgiyle bağlanmış iki dolu nokta var (●–●).\n",
    "\n",
    "Anlamı: Bu Controlled-Z (CZ) kapısıdır.\n",
    "\n",
    "Eğer her iki qubit de \n",
    "∣\n",
    "1\n",
    "⟩\n",
    "∣1⟩ durumundaysa, tüm sisteme faz çarpanı \n",
    "−\n",
    "1\n",
    "−1 eklenir.\n",
    "\n",
    "Diğer tüm durumlar değişmeden kalır.\n",
    "\n",
    "Yani bu, “iki qubit arasındaki faz kapısı”dır."
   ]
  },
  {
   "cell_type": "code",
   "execution_count": 16,
   "id": "b379edf9-cd65-4053-a6b6-0978ea86bafb",
   "metadata": {},
   "outputs": [
    {
     "data": {
      "image/png": "[encoded data removed]",
      "text/plain": [
       "<Figure size 370.906x200.667 with 1 Axes>"
      ]
     },
     "metadata": {},
     "output_type": "display_data"
    }
   ],
   "source": [
    "_= cnot_from_cz.draw(output='mpl')"
   ]
  },
  {
   "cell_type": "markdown",
   "id": "13c28fdd-e4fa-4457-820b-dc6a11c950db",
   "metadata": {},
   "source": [
    "Devrede: Orta kısımda bir CZ kutusu, hedef qubit (q₁) üzerinde iki tane H (Hadamard) kapısı var.\n",
    "\n",
    "Anlamı: Bu devre, CNOT’u CZ’den üretir.\n",
    "\n",
    "Önce q₁ üzerine H uygulanır.\n",
    "\n",
    "Sonra CZ kapısı çalışır.\n",
    "\n",
    "Sonra q₁ üzerine tekrar H uygulanır.\n",
    "\n",
    "Böylece elde edilen devre, davranış olarak standart CNOT ile tamamen eşdeğerdir."
   ]
  },
  {
   "cell_type": "code",
   "execution_count": 17,
   "id": "6732cafe-5082-4076-86a9-7c9c1fd2b148",
   "metadata": {},
   "outputs": [
    {
     "data": {
      "image/png": "[encoded data removed]",
      "text/plain": [
       "<Figure size 203.683x200.667 with 1 Axes>"
      ]
     },
     "metadata": {},
     "output_type": "display_data"
    }
   ],
   "source": [
    "_= cnot.draw(output='mpl')"
   ]
  },
  {
   "cell_type": "markdown",
   "id": "d229a117-3ce3-4e61-9564-8871844f776e",
   "metadata": {},
   "source": [
    "Devrede: q₀ üzerinde dolu daire (●), q₁ üzerinde artı işareti (⊕).\n",
    "\n",
    "Anlamı: Bu, doğrudan Qiskit’te tanımlanan CNOT (Controlled-X) kapısıdır.\n",
    "\n",
    "Eğer q₀ = \n",
    "∣\n",
    "1\n",
    "⟩\n",
    "∣1⟩, o zaman q₁ terslenir (X kapısı uygulanır).\n",
    "\n",
    "Eğer q₀ = \n",
    "∣\n",
    "0\n",
    "⟩\n",
    "∣0⟩, q₁ aynı kalır."
   ]
  },
  {
   "cell_type": "markdown",
   "id": "e48d7f0b-aeb3-41c4-aeef-4e3862b322df",
   "metadata": {},
   "source": [
    "### Açıklama: CNOT–CZ İlişkisi\n",
    "\n",
    "**Ne yapıyoruz?**  \n",
    "İlk olarak iki temel iki-qubit kapısını (CZ ve CNOT) tanımlıyoruz. Daha sonra, hedef qubit üzerine Hadamard (H) kapısı ekleyerek **CNOT’un CZ’den nasıl elde edilebildiğini** gösteriyoruz. Son aşamada da doğrudan tanımlanan CNOT ile bu yeni devreyi yan yana koyuyoruz.  \n",
    "\n",
    "**Neden yapıyoruz?**  \n",
    "Matematiksel olarak  $CNOT = (I \\otimes H)\\,CZ\\,(I \\otimes H)$  eşitliği biliniyor. Biz bu eşitliği devre çizimleri üzerinden doğrulamak istiyoruz. Böylece hem teorik kimliği hem de pratik devre karşılığını aynı anda görmüş oluyoruz.  \n",
    "\n",
    "**Ne işe yarıyor?**  \n",
    "Bu dönüşüm sayesinde, donanım üzerinde hangi kapı fiziksel olarak daha kolay uygulanabiliyorsa diğeri ondan inşa edilebilir. Örneğin:  \n",
    "- Bazı donanımlarda **CZ kapısı doğal olarak daha ucuzdur**, bu durumda CNOT kapısı CZ’den sentezlenebilir.  \n",
    "- Derleyiciler (compiler) bu tür dönüşümleri kullanarak devreleri donanım için optimize eder.  \n",
    "\n",
    "Kısacası bu ilişki, hem teorik açıdan kapılar arasındaki bağı anlamamızı sağlar, hem de pratikte kuantum donanımlarında verimli algoritmalar çalıştırmamıza yardımcı olur.\n"
   ]
  },
  {
   "cell_type": "markdown",
   "id": "b7fb9d2f-5db2-493e-8a10-4f81ae9d05b1",
   "metadata": {},
   "source": [
    "## Bell Durumu $|\\Phi^+\\rangle$ — CZ ile Üretim\n",
    "\n",
    "Başlangıç $|00\\rangle$.  \n",
    "1) İlk qubit’e $H:\\frac{1}{\\sqrt{2}}(|00\\rangle + |10\\rangle)$  \n",
    "2) CNOT yerine $(I\\otimes H)\\,\\mathrm{CZ}\\,(I\\otimes H)$ kullan:  \n",
    "sonuç $ \\frac{1}{\\sqrt{2}}(|00\\rangle + |11\\rangle) $ (maksimum dolanık Bell durumu).\n"
   ]
  },
  {
   "cell_type": "code",
   "execution_count": 18,
   "id": "9c208eaf-5ea4-4de7-8bb7-e83f6b037ca7",
   "metadata": {},
   "outputs": [],
   "source": [
    "bell = QuantumCircuit(2, 2)"
   ]
  },
  {
   "cell_type": "code",
   "execution_count": 19,
   "id": "9f0a5c7a-7879-435f-9e5e-8f032b89e722",
   "metadata": {},
   "outputs": [
    {
     "data": {
      "text/plain": [
       "<qiskit.circuit.instructionset.InstructionSet at 0x1f90829c250>"
      ]
     },
     "execution_count": 19,
     "metadata": {},
     "output_type": "execute_result"
    }
   ],
   "source": [
    "# |00> -> (H on q0)\n",
    "bell.h(0)"
   ]
  },
  {
   "cell_type": "code",
   "execution_count": 20,
   "id": "34ba4acf-e9da-4977-ad9b-5357fac37f43",
   "metadata": {},
   "outputs": [
    {
     "data": {
      "text/plain": [
       "<qiskit.circuit.instructionset.InstructionSet at 0x1f9a2b69240>"
      ]
     },
     "execution_count": 20,
     "metadata": {},
     "output_type": "execute_result"
    }
   ],
   "source": [
    "\n",
    "# CNOT yerine: H(target) - CZ - H(target)\n",
    "bell.h(1)\n",
    "bell.cz(0, 1)\n",
    "bell.h(1)"
   ]
  },
  {
   "cell_type": "code",
   "execution_count": 21,
   "id": "06e3a755-fb83-42a1-a5ed-359f8df593e7",
   "metadata": {},
   "outputs": [
    {
     "data": {
      "text/plain": [
       "<qiskit.circuit.instructionset.InstructionSet at 0x1f9a2a0f520>"
      ]
     },
     "execution_count": 21,
     "metadata": {},
     "output_type": "execute_result"
    }
   ],
   "source": [
    "# Ölçüm\n",
    "bell.measure([0,1], [0,1])"
   ]
  },
  {
   "cell_type": "code",
   "execution_count": 24,
   "id": "0a11cced-9783-4363-bfb0-076fcb2a76be",
   "metadata": {},
   "outputs": [],
   "source": [
    "simulator = AerSimulator()\n",
    "compiled_circuit = transpile(bell, simulator)   \n",
    "sim_result = simulator.run(compiled_circuit).result()\n",
    "counts = sim_result.get_counts()  "
   ]
  },
  {
   "cell_type": "code",
   "execution_count": 27,
   "id": "60439d1d-22fd-45f9-8262-ac8963afe5cf",
   "metadata": {},
   "outputs": [
    {
     "data": {
      "image/png": "[encoded data removed]",
      "text/plain": [
       "<Figure size 640x480 with 1 Axes>"
      ]
     },
     "metadata": {},
     "output_type": "display_data"
    }
   ],
   "source": [
    "plot_histogram(counts)\n",
    "plt.show()"
   ]
  },
  {
   "cell_type": "markdown",
   "id": "5c68464e-1522-4643-8e06-00afb194d1d2",
   "metadata": {},
   "source": [
    "Grafikte yalnızca iki sonuç görülmektedir: `00` ve `11`.  \n",
    "- Her iki durum da yaklaşık %50 olasılıkla ölçülmektedir.  \n",
    "- `01` ve `10` durumları hiç çıkmaz.  \n",
    "Bu, qubitlerin birbirine **dolanık (entangled)** olduğunun deneysel kanıtıdır.  \n"
   ]
  },
  {
   "cell_type": "code",
   "execution_count": 28,
   "id": "a931c9c3-ae8d-4168-b77e-a8129f0ca3f7",
   "metadata": {},
   "outputs": [
    {
     "data": {
      "image/png": "[encoded data removed]",
      "text/plain": [
       "<Figure size 538.128x284.278 with 1 Axes>"
      ]
     },
     "metadata": {},
     "output_type": "display_data"
    }
   ],
   "source": [
    "_= bell.draw(output='mpl')"
   ]
  },
  {
   "cell_type": "markdown",
   "id": "4bb70f57-4ed7-449e-98e0-6ee5b4db58b4",
   "metadata": {},
   "source": [
    "Çizimde Bell durumunu üretmek için kullanılan devre görülmektedir:  \n",
    "1. İlk qubit (q₀) üzerine **Hadamard (H)** kapısı uygulanır → süperpozisyon oluşturur.  \n",
    "2. Hedef qubit (q₁) üzerine **H–CZ–H** bloğu eklenir → bu yapı CNOT’un eşdeğeridir.  \n",
    "3. Sonunda iki qubit ölçülür → histogramda yalnızca `00` ve `11` sonuçları elde edilir.  \n",
    "Devre, **CZ kapısı kullanarak Bell durumu** üretimini göstermektedir.  "
   ]
  },
  {
   "cell_type": "markdown",
   "id": "b766f4b1-b50e-4403-9463-20e83d761a54",
   "metadata": {},
   "source": [
    "### Açıklama: Bell Durumu $|Φ⁺⟩$ — CZ ile Üretim\n",
    "\n",
    "**Ne yapıyoruz?**  \n",
    "Başlangıç durumunu $|00\\rangle$ olarak alıyoruz. İlk qubit üzerine Hadamard (H) kapısı uygulayarak süperpozisyon elde ediyoruz.  \n",
    "Ardından, CNOT yerine **H–CZ–H** bloğu kullanarak iki qubit arasında etkileşim kuruyoruz. Son olarak qubitleri ölçüp histogramını çiziyoruz.  \n",
    "\n",
    "**Neden yapıyoruz?**  \n",
    "Matematiksel olarak bilinen eşitlik $CNOT = (I \\otimes H)\\,CZ\\,(I \\otimes H)$’i kullanarak, CNOT olmadan da aynı sonucu elde edebileceğimizi göstermek için.  \n",
    "Yani, doğrudan CNOT yerine CZ tabanlı bir devreyle **Bell durumunu** üretebileceğimizi kanıtlıyoruz.  \n",
    "\n",
    "**Ne işe yarıyor?**  \n",
    "- Donanımda **hangi kapı kolay uygulanıyorsa** diğerini onun üzerinden kurabiliriz. Örneğin bazı kuantum işlemcilerde CZ daha temel bir kapıdır, CNOT bu şekilde sentezlenir.  \n",
    "- Histogram çıktısı yalnızca **00** ve **11** sonuçlarını yaklaşık %50–%50 gösterir. Bu da iki qubitin **maksimum dolanık (entangled)** olduğunu gösterir.  \n",
    "- Böylece dolanıklığın hem teorik tanımını hem de deneysel çıktısını görmüş oluruz.\n"
   ]
  },
  {
   "cell_type": "markdown",
   "id": "769b5b46-4385-4169-acad-cdd6cd298626",
   "metadata": {},
   "source": [
    "---\n",
    "## SWAP Kapısı\n",
    "\n",
    "### Tanım\n",
    "SWAP kapısı, iki qubitin durumlarını **karşılıklı olarak değiştiren** iki-qubit kapısıdır.  \n",
    "Örneğin:  \n",
    "- $ |01\\rangle → |10\\rangle $ \n",
    "- $ |10\\rangle → |01\\rangle $  \n",
    "\n",
    "\n",
    "### Matris Gösterimi\n",
    "$$\n",
    "SWAP =\n",
    "\\begin{bmatrix}\n",
    "1 & 0 & 0 & 0 \\\\\n",
    "0 & 0 & 1 & 0 \\\\\n",
    "0 & 1 & 0 & 0 \\\\\n",
    "0 & 0 & 0 & 1\n",
    "\\end{bmatrix}\n",
    "$$\n",
    "\n",
    "### Çalışma Mantığı\n",
    "- İki qubitin durumunu birbirine takas eder.  \n",
    "- \\( |00\\rangle \\) ve \\( |11\\rangle \\) aynı kalır.  \n",
    "- \\( |01\\rangle \\) ↔ \\( |10\\rangle \\) dönüşümü yapılır.  \n",
    "\n",
    "\n",
    "### Önemli Özellik\n",
    "SWAP kapısı **3 adet CNOT kapısı** ile ayrıştırılabilir:  \n",
    "\n",
    "$$\n",
    "SWAP(q_0, q_1) = CNOT(q_0, q_1)\\;CNOT(q_1, q_0)\\;CNOT(q_0, q_1)\n",
    "$$\n",
    "\n",
    "Bu sayede SWAP, donanımda doğrudan bulunmasa bile **CNOT’lar üzerinden inşa edilebilir**.  "
   ]
  },
  {
   "cell_type": "code",
   "execution_count": 30,
   "id": "5e914df4-842d-4470-bc1f-8ba524f3f933",
   "metadata": {},
   "outputs": [
    {
     "data": {
      "text/plain": [
       "<qiskit.circuit.instructionset.InstructionSet at 0x1f9a74c4a90>"
      ]
     },
     "execution_count": 30,
     "metadata": {},
     "output_type": "execute_result"
    }
   ],
   "source": [
    "qc_swap= QuantumCircuit(2, name=\"SWAP\")\n",
    "qc_swap.swap(0,1)"
   ]
  },
  {
   "cell_type": "code",
   "execution_count": 34,
   "id": "786d213f-4ffb-402d-a363-35170bb9b59b",
   "metadata": {},
   "outputs": [
    {
     "data": {
      "image/png": "[encoded data removed]",
      "text/plain": [
       "<Figure size 203.683x200.667 with 1 Axes>"
      ]
     },
     "metadata": {},
     "output_type": "display_data"
    }
   ],
   "source": [
    "_ = qc_swap.draw(output='mpl')"
   ]
  },
  {
   "cell_type": "markdown",
   "id": "1cb93a24-6f1f-4590-a413-03a1ce9c4d57",
   "metadata": {},
   "source": [
    "**SWAP Kapısı**\n",
    "\n",
    "Yukarıdaki devre, `q0` ile `q1` arasına yerleştirilmiş **SWAP** kapısını gösterir.  \n",
    "Sembol, iki hat arasında dikey bir bağ (Qiskit bazen iki **×** işaretiyle, bazen stilize düğümlerle çizer) kullanır ve **iki qubitin durumlarını takas eder**:\n",
    "\n",
    "- $|00\\rangle \\rightarrow |00\\rangle$\n",
    "- $|01\\rangle \\rightarrow |10\\rangle$\n",
    "- $|10\\rangle \\rightarrow |01\\rangle$\n",
    "- $|11\\rangle \\rightarrow |11\\rangle$\n",
    "\n",
    "> **Amaç:** Devrede fiziksel komşuluk/bağlantı kısıtları olduğunda qubit durumlarını **yer değiştirmek** için kullanılır.  \n",
    "> **Not:** SWAP, pratikte **3 adet CNOT** ile gerçekleştirilebilir:  \n",
    "> $SWAP(q_0,q_1) = CNOT(q_0,q_1)\\;CNOT(q_1,q_0)\\;CNOT(q_0,q_1)$\n"
   ]
  },
  {
   "cell_type": "code",
   "execution_count": 33,
   "id": "085324fc-654a-448f-ac23-ed44b02b142f",
   "metadata": {},
   "outputs": [
    {
     "data": {
      "text/plain": [
       "<qiskit.circuit.instructionset.InstructionSet at 0x1f9a865a170>"
      ]
     },
     "execution_count": 33,
     "metadata": {},
     "output_type": "execute_result"
    }
   ],
   "source": [
    "qc_swap_cx = QuantumCircuit(2, name=\"SWAP_from_CNOTs\")\n",
    "qc_swap_cx.cx(0, 1)\n",
    "qc_swap_cx.cx(1, 0)\n",
    "qc_swap_cx.cx(0, 1)"
   ]
  },
  {
   "cell_type": "code",
   "execution_count": 36,
   "id": "db916242-1941-4b79-b9e6-95b1e72b3ae2",
   "metadata": {},
   "outputs": [
    {
     "data": {
      "image/png": "[encoded data removed]",
      "text/plain": [
       "<Figure size 370.906x200.667 with 1 Axes>"
      ]
     },
     "metadata": {},
     "output_type": "display_data"
    }
   ],
   "source": [
    "_ = qc_swap_cx.draw(output='mpl')"
   ]
  },
  {
   "cell_type": "markdown",
   "id": "8b9cea20-a3a9-4149-8b86-224ad2241b8f",
   "metadata": {},
   "source": [
    "**SWAP’ın 3 CNOT ile Ayrıştırılması**\n",
    "\n",
    "Yukarıdaki devre, **SWAP kapısının** üç adet **CNOT kapısı** kullanılarak nasıl inşa edildiğini göstermektedir.  \n",
    "Devre şu sırayla uygulanır:  \n",
    "\n",
    "1. $CNOT(q_0, q_1)$  \n",
    "2. $CNOT(q_1, q_0)$  \n",
    "3. $CNOT(q_0, q_1)$  \n",
    "\n",
    "Bu üç işlem birlikte, $q_0$ ve $q_1$ qubitlerinin durumlarını **tamamen yer değiştirir**.  \n",
    "\n",
    "- $|01\\rangle \\rightarrow |10\\rangle$  \n",
    "- $|10\\rangle \\rightarrow |01\\rangle$  \n",
    "- $|00\\rangle$ ve $|11\\rangle$ durumları sabit kalır.  \n",
    "\n",
    "> **Önemli Not:** Gerçek kuantum donanımlarında SWAP kapısı doğrudan bulunmayabilir.  \n",
    "> Bu durumda donanım, SWAP’ı bu şekilde **3 CNOT kapısı** üzerinden uygular.  \n"
   ]
  },
  {
   "cell_type": "code",
   "execution_count": 40,
   "id": "4e804dbf-69fe-4fad-a145-32437ef9b98e",
   "metadata": {},
   "outputs": [
    {
     "name": "stdout",
     "output_type": "stream",
     "text": [
      "SWAP ≡ 3×CNOT ? -> True\n"
     ]
    }
   ],
   "source": [
    "# Operatör karşılaştırması\n",
    "op_swap = Operator(qc_swap)\n",
    "op_swap_cx = Operator(qc_swap_cx)\n",
    "print(\"SWAP ≡ 3×CNOT ? ->\", op_swap.equiv(op_swap_cx))"
   ]
  },
  {
   "cell_type": "markdown",
   "id": "dd001542-1006-44a4-87dc-4b2aa0a70953",
   "metadata": {},
   "source": [
    "**Operatör Karşılaştırması**\n",
    "\n",
    "Bu kodda, doğrudan kullanılan **SWAP kapısı** ile üç adet CNOT kapısından oluşan devrenin  \n",
    "**matris temsilleri (üniter operatörleri)** çıkarılmış ve karşılaştırılmıştır.  \n",
    "\n",
    "- `Operator(qc_swap)`: SWAP kapısının matrisini hesaplar.  \n",
    "- `Operator(qc_swap_cx)`: 3 CNOT ile kurulan SWAP devresinin matrisini hesaplar.  \n",
    "- `.equiv(...)`: İki operatörün global faz farkı hariç aynı işlemi yapıp yapmadığını test eder.  \n",
    "\n",
    "Çıktıda `\"True\"` görülmesi, **SWAP ≡ 3×CNOT** eşitliğinin doğrulandığını göstermektedir.  \n"
   ]
  },
  {
   "cell_type": "markdown",
   "id": "3da3c8c0-b21f-4e29-9c26-13b284b690b7",
   "metadata": {},
   "source": [
    "---\n",
    "# Genel Özet: İki Qubit Kapıları\n",
    "\n",
    "Bu bölümde üç temel iki-qubit kapısı inceledik: **CNOT**, **CZ** ve **SWAP**.  \n",
    "Her biri kuantum algoritmalarında ve donanım optimizasyonunda kritik rol oynamaktadır.  \n",
    "\n",
    "## 1. CNOT (Controlled-X) Kapısı\n",
    "- **Mantık:** Kontrol qubit $|1\\rangle$ ise hedef qubit üzerine X (NOT) kapısı uygulanır.  \n",
    "- **Doğruluk tablosu:**  \n",
    "  - $|00\\rangle \\to |00\\rangle$  \n",
    "  - $|01\\rangle \\to |01\\rangle$  \n",
    "  - $|10\\rangle \\to |11\\rangle$  \n",
    "  - $|11\\rangle \\to |10\\rangle$  \n",
    "- **Önemi:** Klasik XOR işlemine denktir, **dolanıklık üretmekte** kullanılır.  \n",
    "\n",
    "\n",
    "## 2. CZ (Controlled-Z) Kapısı\n",
    "- **Mantık:** Yalnızca $|11\\rangle$ durumuna faz çarpanı $-1$ ekler.  \n",
    "- **Matris:**  \n",
    "  $$\n",
    "  CZ =\n",
    "  \\begin{bmatrix}\n",
    "  1 & 0 & 0 & 0 \\\\\n",
    "  0 & 1 & 0 & 0 \\\\\n",
    "  0 & 0 & 1 & 0 \\\\\n",
    "  0 & 0 & 0 & -1\n",
    "  \\end{bmatrix}\n",
    "  $$\n",
    "- **Önemi:** Faz tabanlı kapıdır, donanımda CNOT yerine daha kolay uygulanabilir.  \n",
    "\n",
    "\n",
    "## 3. CNOT–CZ İlişkisi\n",
    "- **Eşitlik:**  \n",
    "  $$\n",
    "  CNOT = (I \\otimes H)\\,CZ\\,(I \\otimes H)\n",
    "  $$  \n",
    "  $$\n",
    "  CZ = (I \\otimes H)\\,CNOT\\,(I \\otimes H)\n",
    "  $$  \n",
    "- **Yorum:** İki kapı Hadamard dönüşümü ile birbirine çevrilebilir.  \n",
    "- **Önemi:** Derleyiciler donanımda uygun olan kapıyı kullanarak devre optimizasyonu yapar.  \n",
    "\n",
    "\n",
    "## 4. Bell Durumu ve Dolanıklık\n",
    "- **Örnek durum:**  \n",
    "  $$\n",
    "  |\\Phi^+\\rangle = \\tfrac{1}{\\sqrt{2}}(|00\\rangle + |11\\rangle)\n",
    "  $$  \n",
    "- **Özellik:** Tek tek qubitler rastgele ölçülür, ama sonuçlar tamamen korelasyonludur.  \n",
    "- **Üretim:** H + CNOT (veya H + CZ eşdeğeri) ile kolayca elde edilir.  \n",
    "\n",
    "\n",
    "## 5. SWAP Kapısı\n",
    "- **Mantık:** İki qubitin durumunu karşılıklı değiştirir.  \n",
    "  - $|01\\rangle \\leftrightarrow |10\\rangle$,  \n",
    "  - $|00\\rangle$ ve $|11\\rangle$ sabit kalır.  \n",
    "- **Matris:**  \n",
    "  $$\n",
    "  SWAP =\n",
    "  \\begin{bmatrix}\n",
    "  1 & 0 & 0 & 0 \\\\\n",
    "  0 & 0 & 1 & 0 \\\\\n",
    "  0 & 1 & 0 & 0 \\\\\n",
    "  0 & 0 & 0 & 1\n",
    "  \\end{bmatrix}\n",
    "  $$\n",
    "- **Ayrıştırma:**  \n",
    "  $$\n",
    "  SWAP(q_0,q_1) = CNOT(q_0,q_1)\\;CNOT(q_1,q_0)\\;CNOT(q_0,q_1)\n",
    "  $$  \n",
    "- **Önemi:** Fiziksel donanımlarda qubitler genellikle komşuluk kısıtlamalarıyla bağlıdır; SWAP kapısı qubitlerin yer değiştirmesini sağlar.  \n",
    "\n",
    "\n",
    "## Genel Değerlendirme\n",
    "- **CNOT:** Dolanıklık üretiminin temel kapısı.  \n",
    "- **CZ:** Faz tabanlı kontrol, donanımda alternatif olarak önemli.  \n",
    "- **CNOT–CZ İlişkisi:** Kapılar arasında dönüşüm yapılabilir, derleyici optimizasyonu sağlar.  \n",
    "- **SWAP:** Qubitlerin fiziksel sınırlamalarını aşmak için gerekli.\n",
    "\n",
    "Sonuç olarak bu üç kapı, **kuantum algoritmalarının ve devre optimizasyonunun temel yapı taşlarını** oluşturur.  \n"
   ]
  }
 ],
 "metadata": {
  "kernelspec": {
   "display_name": "Python (qiskit_env)",
   "language": "python",
   "name": "qiskit_env"
  },
  "language_info": {
   "codemirror_mode": {
    "name": "ipython",
    "version": 3
   },
   "file_extension": ".py",
   "mimetype": "text/x-python",
   "name": "python",
   "nbconvert_exporter": "python",
   "pygments_lexer": "ipython3",
   "version": "3.13.5"
  }
 },
 "nbformat": 4,
 "nbformat_minor": 5
}
