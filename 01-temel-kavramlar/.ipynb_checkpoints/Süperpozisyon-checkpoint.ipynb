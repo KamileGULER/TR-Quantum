{
 "cells": [
  {
   "cell_type": "markdown",
   "id": "8cea01cc-1dba-4efe-83ec-cfac18d3bdd0",
   "metadata": {},
   "source": [
    "# Süperpozisyon\n",
    "\n",
    "Bu bölümde, **Hadamard kapısı** ile qubit’in süperpozisyon durumuna nasıl getirildiğini göstereceğiz.  \n",
    "\n",
    "**Süperpozisyon**, qubit’in aynı anda birden fazla durumda bulunabilmesi anlamına gelir.  \n",
    "\n",
    "Klasik bilgisayarda bir bit yalnızca **0** veya **1** değerini alabilir.  \n",
    "Fakat qubit, ölçüm yapılana kadar bu iki durumun birleşiminde bulunur.  \n",
    "\n",
    "Bu özellik, **kuantum paralelliği** sağlar. Yani bir kuantum algoritması aynı anda birçok olası girdiyi işleyebilir.  \n",
    "\n",
    "### Örnek\n",
    "\n",
    "- **Klasik bit:** 0 veya 1  \n",
    "- **Qubit (dengeli süperpozisyon):**\n",
    "\n",
    "$$\n",
    "|\\psi\\rangle = \\frac{1}{\\sqrt{2}}|0\\rangle + \\frac{1}{\\sqrt{2}}|1\\rangle\n",
    "$$\n",
    "\n",
    "Bu durumda ölçüm yapıldığında, qubit %50 olasılıkla $|0\\rangle$,  \n",
    "%50 olasılıkla $|1\\rangle$ sonucunu verir."
   ]
  },
  {
   "cell_type": "code",
   "execution_count": 1,
   "id": "c12cdbe7-28a0-45e2-b810-239607044e79",
   "metadata": {},
   "outputs": [],
   "source": [
    "# Qiskit’in temel bileşenlerini içe aktar\n",
    "from qiskit import *"
   ]
  },
  {
   "cell_type": "code",
   "execution_count": 2,
   "id": "be4f5ffb-a85f-4bc3-a649-02491d00876b",
   "metadata": {},
   "outputs": [],
   "source": [
    "# AerSimulator: Qiskit Aer modülünün sağladığı kuantum devre simülatörü\n",
    "# Gerçek cihaz olmadan devreleri bilgisayarda çalıştırmak için kullanılır\n",
    "from qiskit_aer import AerSimulator"
   ]
  },
  {
   "cell_type": "code",
   "execution_count": 3,
   "id": "e0a6eba6-adb2-4144-8b89-979073a1343e",
   "metadata": {},
   "outputs": [],
   "source": [
    "# Ölçüm sonuçlarını histogram olarak görselleştirmek için\n",
    "from qiskit.visualization import plot_histogram  "
   ]
  },
  {
   "cell_type": "code",
   "execution_count": 4,
   "id": "a9e9980a-1ea7-4cdb-9bcf-146da6cd4eee",
   "metadata": {},
   "outputs": [],
   "source": [
    "# 1 qubit ve 1 klasik bitten oluşan kuantum devresi oluşturma\n",
    "CircuitS = QuantumCircuit(1,1)"
   ]
  },
  {
   "cell_type": "code",
   "execution_count": 5,
   "id": "7c24fefa-c509-4207-be3f-4d61064c8e6b",
   "metadata": {},
   "outputs": [
    {
     "data": {
      "text/plain": [
       "<qiskit.circuit.instructionset.InstructionSet at 0x1c455f14040>"
      ]
     },
     "execution_count": 5,
     "metadata": {},
     "output_type": "execute_result"
    }
   ],
   "source": [
    "# Hadamard kapısı uygula: |0> → (|0> + |1>)/√2\n",
    "CircuitS.h(0)"
   ]
  },
  {
   "cell_type": "markdown",
   "id": "af948ff1-d618-4d5d-9101-17f62bba6998",
   "metadata": {},
   "source": [
    "### Süperpozisyon Devre Diyagramı\n",
    "\n",
    "Hadamard kapısı (H), başlangıçtaki $|0\\rangle$ durumunu \n",
    "dengeli süperpozisyona dönüştürür:  \n",
    "\n",
    "$$\n",
    "\\frac{1}{\\sqrt{2}}(|0\\rangle + |1\\rangle)\n",
    "$$\n"
   ]
  },
  {
   "cell_type": "code",
   "execution_count": 6,
   "id": "58ea7b94-c9db-4bbe-bebf-afd9db52b8be",
   "metadata": {},
   "outputs": [
    {
     "data": {
      "image/png": "[encoded data removed]",
      "text/plain": [
       "<Figure size 269.064x200.667 with 1 Axes>"
      ]
     },
     "execution_count": 6,
     "metadata": {},
     "output_type": "execute_result"
    }
   ],
   "source": [
    "# Ölçüm ekle\n",
    "CircuitS.measure(0, 0)\n",
    "# Görselleştir \n",
    "CircuitS.draw(\"mpl\")"
   ]
  },
  {
   "cell_type": "code",
   "execution_count": 7,
   "id": "5006c6d4-e55a-4b96-97de-4fee5f11dd9c",
   "metadata": {},
   "outputs": [],
   "source": [
    "# Qiskit Aer tarafından sağlanan simülatör tanımlanıyor\n",
    "# Gerçek kuantum cihazı yerine devreyi bilgisayar üzerinde çalıştıracağız\n",
    "simulator = AerSimulator()"
   ]
  },
  {
   "cell_type": "code",
   "execution_count": 8,
   "id": "af7ca462-36cc-4e54-923e-83997a1b4341",
   "metadata": {},
   "outputs": [],
   "source": [
    "# Kuantum devresi, simülatöre uygun şekilde derleniyor\n",
    "compiled_circuit = transpile(CircuitS, simulator)"
   ]
  },
  {
   "cell_type": "code",
   "execution_count": 9,
   "id": "98de2986-3a5f-4759-b3f4-b3f820bbdb77",
   "metadata": {},
   "outputs": [],
   "source": [
    "# Derlenmiş devre, 1000 shot ile simülatörde çalıştırılıyor\n",
    "# Shots=1000 → aynı devre 1000 kez tekrar ölçülür, olasılık dağılımı elde edilir\n",
    "sim_result = simulator.run(compiled_circuit, shots=1000).result()"
   ]
  },
  {
   "cell_type": "code",
   "execution_count": 10,
   "id": "e04008eb-c12f-4e05-8bf3-5c00637865af",
   "metadata": {},
   "outputs": [],
   "source": [
    "# Ölçüm sonuçları sayısal olarak alınıyor (örn: {'0': 502, '1': 498})\n",
    "counts = sim_result.get_counts()"
   ]
  },
  {
   "cell_type": "code",
   "execution_count": 11,
   "id": "d5a2bb9e-3c41-4cc9-a338-d7f275b0c8f8",
   "metadata": {},
   "outputs": [
    {
     "data": {
      "image/png": "[encoded data removed]",
      "text/plain": [
       "<Figure size 640x480 with 1 Axes>"
      ]
     },
     "execution_count": 11,
     "metadata": {},
     "output_type": "execute_result"
    }
   ],
   "source": [
    "# Ölçüm sonuçları histogram olarak görselleştiriliyor\n",
    "plot_histogram(counts)"
   ]
  },
  {
   "cell_type": "markdown",
   "id": "b304a068-be5e-47a9-8287-4d48019e8190",
   "metadata": {},
   "source": [
    "### Ölçüm Sonuçlarının Histogramı\n",
    "\n",
    "Sonuçlar yaklaşık olarak %50 $|0\\rangle$ ve %50 $|1\\rangle$ şeklinde dağılmıştır.  \n",
    "Bu dağılım, süperpozisyonun teorik olarak öngördüğü davranışı doğrulamaktadır.  \n",
    "İdeal durumda sonuçlar tam %50–%50 olmalıdır, ancak simülasyonun rastgeleliğinden dolayı küçük sapmalar olabilir."
   ]
  }
 ],
 "metadata": {
  "kernelspec": {
   "display_name": "Python (qiskit_env)",
   "language": "python",
   "name": "qiskit_env"
  },
  "language_info": {
   "codemirror_mode": {
    "name": "ipython",
    "version": 3
   },
   "file_extension": ".py",
   "mimetype": "text/x-python",
   "name": "python",
   "nbconvert_exporter": "python",
   "pygments_lexer": "ipython3",
   "version": "3.13.5"
  }
 },
 "nbformat": 4,
 "nbformat_minor": 5
}
