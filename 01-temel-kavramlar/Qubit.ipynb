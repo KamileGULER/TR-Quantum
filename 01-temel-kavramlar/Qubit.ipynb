{
 "cells": [
  {
   "cell_type": "markdown",
   "id": "19d7e787-7299-4ffc-9186-f7df73861e36",
   "metadata": {},
   "source": [
    "# Qubit Nedir?\n",
    "\n",
    "Qubit (quantum bit), klasik bilgisayarlardaki bitin kuantum karşılığıdır.  \n",
    "Klasik bit yalnızca **0** veya **1** durumlarında bulunabilirken,  \n",
    "kuantum bit aynı anda her iki durumda da bulunabilen bir **süperpozisyon** halinde olabilir.  \n",
    "\n",
    "Matematiksel olarak bir qubit şu şekilde ifade edilir:\n",
    "\n",
    "$$\n",
    "|\\psi\\rangle = \\alpha |0\\rangle + \\beta |1\\rangle\n",
    "$$\n",
    "\n",
    "Burada:\n",
    "\n",
    "- $\\alpha$ ve $\\beta$, karmaşık sayılardır.  \n",
    "- Olasılıkların korunması için şu koşul sağlanır:  \n",
    "\n",
    "$$\n",
    "|\\alpha|^2 + |\\beta|^2 = 1\n",
    "$$\n",
    "\n",
    "- Ölçüm yapıldığında sistem:  \n",
    "\n",
    "  - $|0\\rangle$ durumunu $|\\alpha|^2$ olasılıkla,  \n",
    "  - $|1\\rangle$ durumunu ise $|\\beta|^2$ olasılıkla verir.\n"
   ]
  },
  {
   "cell_type": "code",
   "execution_count": 1,
   "id": "61307f29-7573-4f68-83e9-85acbfe4f99e",
   "metadata": {},
   "outputs": [],
   "source": [
    "# Qiskit’in temel bileşenlerini içe aktar\n",
    "from qiskit import *"
   ]
  },
  {
   "cell_type": "code",
   "execution_count": 2,
   "id": "2a88ab8e-4759-4a69-bc67-0ccb7ae25991",
   "metadata": {},
   "outputs": [],
   "source": [
    "# AerSimulator: Qiskit Aer modülünün sağladığı kuantum devre simülatörü\n",
    "# Gerçek cihaz olmadan devreleri bilgisayarda çalıştırmak için kullanılır.\n",
    "from qiskit_aer import AerSimulator"
   ]
  },
  {
   "cell_type": "code",
   "execution_count": 3,
   "id": "9985cbed-1d9d-429a-ac27-0038d1b8cc2c",
   "metadata": {},
   "outputs": [],
   "source": [
    "# Ölçüm sonuçlarını histogram olarak görselleştirmek için\n",
    "from qiskit.visualization import plot_histogram  "
   ]
  },
  {
   "cell_type": "code",
   "execution_count": 4,
   "id": "ebba66fe-e810-46bd-af59-b90c4858b9b5",
   "metadata": {},
   "outputs": [],
   "source": [
    "# 1 qubit ve 1 klasik bitlik qubit devresi oluşturma\n",
    "Circuit = QuantumCircuit(1, 1)"
   ]
  },
  {
   "cell_type": "markdown",
   "id": "29c2f041-9aa6-40f4-8623-7cfada62af9f",
   "metadata": {},
   "source": [
    "### Qubit Devre Diyagramı"
   ]
  },
  {
   "cell_type": "code",
   "execution_count": 5,
   "id": "73c90759-7bb4-459f-a4e2-0987d0cf19b2",
   "metadata": {},
   "outputs": [
    {
     "data": {
      "image/png": "[encoded data removed]",
      "text/plain": [
       "<Figure size 143.647x200.667 with 1 Axes>"
      ]
     },
     "execution_count": 5,
     "metadata": {},
     "output_type": "execute_result"
    }
   ],
   "source": [
    "# Görselleştirme\n",
    "Circuit.draw('mpl')"
   ]
  },
  {
   "cell_type": "code",
   "execution_count": 6,
   "id": "1a5f7f91-cb9d-4acc-8cd4-effcbabd72fe",
   "metadata": {},
   "outputs": [
    {
     "data": {
      "image/png": "[encoded data removed]",
      "text/plain": [
       "<Figure size 185.453x200.667 with 1 Axes>"
      ]
     },
     "execution_count": 6,
     "metadata": {},
     "output_type": "execute_result"
    }
   ],
   "source": [
    "# Qubit başlangıçta |0> durumunda\n",
    "Circuit.measure(0,0)\n",
    "Circuit.draw('mpl')"
   ]
  },
  {
   "cell_type": "code",
   "execution_count": 7,
   "id": "e487e08d-9c05-434d-b338-683abe39fe17",
   "metadata": {},
   "outputs": [],
   "source": [
    "# Simülatör\n",
    "simulator = AerSimulator()"
   ]
  },
  {
   "cell_type": "code",
   "execution_count": 8,
   "id": "0a17b2ea-0b4f-4d8e-895b-7bc104d2ddb8",
   "metadata": {},
   "outputs": [],
   "source": [
    "# Devreyi derle\n",
    "compiled_circuit = transpile(Circuit, simulator)"
   ]
  },
  {
   "cell_type": "code",
   "execution_count": 9,
   "id": "540dd30c-c77e-4213-895b-9dc4aba473a0",
   "metadata": {},
   "outputs": [],
   "source": [
    "# Devreyi simülatörde çalıştırma (1000 shot)\n",
    "sim_result = simulator.run(compiled_circuit, shots=1000).result()"
   ]
  },
  {
   "cell_type": "code",
   "execution_count": 10,
   "id": "961195f3-2a01-4c43-8d10-1116f6b02ebc",
   "metadata": {},
   "outputs": [],
   "source": [
    "# Ölçüm sonuçları\n",
    "counts = sim_result.get_counts()"
   ]
  },
  {
   "cell_type": "markdown",
   "id": "42e83775-33ee-433d-aebc-633cc44642ba",
   "metadata": {},
   "source": [
    "### Ölçüm Sonuçlarının Histogramı"
   ]
  },
  {
   "cell_type": "code",
   "execution_count": 11,
   "id": "a13f45c7-5d77-4203-ad01-9331c15eeb21",
   "metadata": {},
   "outputs": [
    {
     "data": {
      "image/png": "[encoded data removed]",
      "text/plain": [
       "<Figure size 640x480 with 1 Axes>"
      ]
     },
     "execution_count": 11,
     "metadata": {},
     "output_type": "execute_result"
    }
   ],
   "source": [
    "# Ölçüm sonuçlarının histogramı\n",
    "plot_histogram(counts)"
   ]
  },
  {
   "cell_type": "markdown",
   "id": "b2ce3369-8a45-4c82-8749-c617ce4133b5",
   "metadata": {},
   "source": [
    "Sonuç olarak, qubit başlangıçta $|0\\rangle$ durumunda hazırlandığı için \n",
    "tüm ölçümler **0** sonucu vermektedir. \n",
    "Bu, teorik beklentiyle tamamen uyumludur."
   ]
  }
 ],
 "metadata": {
  "kernelspec": {
   "display_name": "Python (qiskit_env)",
   "language": "python",
   "name": "qiskit_env"
  },
  "language_info": {
   "codemirror_mode": {
    "name": "ipython",
    "version": 3
   },
   "file_extension": ".py",
   "mimetype": "text/x-python",
   "name": "python",
   "nbconvert_exporter": "python",
   "pygments_lexer": "ipython3",
   "version": "3.13.5"
  }
 },
 "nbformat": 4,
 "nbformat_minor": 5
}
