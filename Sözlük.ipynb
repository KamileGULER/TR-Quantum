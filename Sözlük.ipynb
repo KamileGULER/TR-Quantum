{
 "cells": [
  {
   "cell_type": "code",
   "execution_count": null,
   "id": "112c53a8-3232-4c00-aa27-a95a3cc52b81",
   "metadata": {},
   "outputs": [],
   "source": []
  }
 ],
 "metadata": {
  "kernelspec": {
   "display_name": "",
   "name": ""
  },
  "language_info": {
   "name": ""
  }
 },
 "nbformat": 4,
 "nbformat_minor": 5
}
